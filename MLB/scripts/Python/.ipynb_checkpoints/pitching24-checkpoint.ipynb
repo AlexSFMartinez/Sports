{
 "cells": [
  {
   "cell_type": "code",
   "execution_count": null,
   "id": "3554fff3-36de-432e-b650-508f5261a9e2",
   "metadata": {
    "scrolled": true
   },
   "outputs": [],
   "source": [
    "import pandas as pd\n",
    "pd.read_csv(\"C:/Users/alexs/OneDrive/Desktop/MLB/data/pitching24.csv\", encoding = \"latin1\")"
   ]
  }
 ],
 "metadata": {
  "kernelspec": {
   "display_name": "Python 3 (ipykernel)",
   "language": "python",
   "name": "python3"
  },
  "language_info": {
   "codemirror_mode": {
    "name": "ipython",
    "version": 3
   },
   "file_extension": ".py",
   "mimetype": "text/x-python",
   "name": "python",
   "nbconvert_exporter": "python",
   "pygments_lexer": "ipython3",
   "version": "3.13.3"
  }
 },
 "nbformat": 4,
 "nbformat_minor": 5
}
